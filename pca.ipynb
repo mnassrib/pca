{
 "cells": [
  {
   "cell_type": "markdown",
   "metadata": {},
   "source": [
    "# Advantages of using PCA for classification\n",
    "\n",
    "One of the most important applications of PCA is for speeding up machine learning algorithms. The MNIST database of handwritten digits is more suitable as it has 784 feature columns (784 dimensions).\n",
    "\n",
    "## Download the Data\n",
    "You can also add a data_home parameter to fetch_mldata to change where you download the data."
   ]
  },
  {
   "cell_type": "code",
   "execution_count": 1,
   "metadata": {},
   "outputs": [],
   "source": [
    "from sklearn.datasets import fetch_mldata\n",
    "mnist = fetch_mldata('MNIST original')"
   ]
  },
  {
   "cell_type": "markdown",
   "metadata": {},
   "source": [
    "The images that you downloaded are contained in mnist.data and has a shape of (70000, 784) meaning there are 70,000 images with 784 dimensions (784 features).\n",
    "\n",
    "The labels (the integers 0–9) are contained in mnist.target. The features are 784 dimensional (28 x 28 images) and the labels are simply numbers from 0–9.\n",
    "\n",
    "## Split Data into Training and Test Sets\n",
    "Typically the train test split is 80% training and 20% test. This gives a training set of 56,000 examples, and a test set of 14,000 examples."
   ]
  },
  {
   "cell_type": "code",
   "execution_count": 2,
   "metadata": {},
   "outputs": [
    {
     "name": "stdout",
     "output_type": "stream",
     "text": [
      "The size of the training data set: (56000, 784)\n",
      "The size of the test data set: (14000, 784)\n"
     ]
    }
   ],
   "source": [
    "from sklearn.model_selection import train_test_split\n",
    "\n",
    "train_img, test_img, train_lbl, test_lbl = train_test_split(mnist.data, mnist.target, test_size=0.2, random_state=0)\n",
    "\n",
    "print('The size of the training data set:', train_img.shape)\n",
    "print('The size of the test data set:', test_img.shape)"
   ]
  },
  {
   "cell_type": "markdown",
   "metadata": {},
   "source": [
    "## Standardize the Data\n",
    "PCA is effected by scale so you need to scale the features in the data before applying it. You can transform the data onto unit scale (mean = 0 and variance = 1) which is a requirement for the optimal performance of some machine learning algorithms. StandardScaler helps standardize the dataset features. Note you fit on the training set and transform on the training and test set. "
   ]
  },
  {
   "cell_type": "code",
   "execution_count": 10,
   "metadata": {},
   "outputs": [],
   "source": [
    "from sklearn.preprocessing import StandardScaler\n",
    "scaler = StandardScaler()\n",
    "# Fit on training set only.\n",
    "scaler.fit(train_img)\n",
    "# Apply transform to both the training set and the test set.\n",
    "train_img = scaler.transform(train_img)\n",
    "test_img = scaler.transform(test_img)"
   ]
  },
  {
   "cell_type": "markdown",
   "metadata": {},
   "source": [
    "## Import and apply PCA\n",
    "The following code below aims to retained 90% of the variance. It means that pca algorithm chooses the minimum number of principal components such that 90% of the variance is retained."
   ]
  },
  {
   "cell_type": "code",
   "execution_count": 4,
   "metadata": {},
   "outputs": [
    {
     "data": {
      "text/plain": [
       "PCA(copy=True, iterated_power='auto', n_components=0.9, random_state=None,\n",
       "  svd_solver='auto', tol=0.0, whiten=False)"
      ]
     },
     "execution_count": 4,
     "metadata": {},
     "output_type": "execute_result"
    }
   ],
   "source": [
    "from sklearn.decomposition import PCA\n",
    "# Make an instance of the Model\n",
    "pca = PCA(0.9)\n",
    "\n",
    "# Fitting PCA on the training set only\n",
    "pca.fit(train_img)"
   ]
  },
  {
   "cell_type": "markdown",
   "metadata": {},
   "source": [
    "Note: You can find out how many components PCA have been selected after fitting the model using ``pca.n_components_`` function:"
   ]
  },
  {
   "cell_type": "code",
   "execution_count": 5,
   "metadata": {},
   "outputs": [
    {
     "data": {
      "text/plain": [
       "235"
      ]
     },
     "execution_count": 5,
     "metadata": {},
     "output_type": "execute_result"
    }
   ],
   "source": [
    "pca.n_components_"
   ]
  },
  {
   "cell_type": "markdown",
   "metadata": {},
   "source": [
    "In this case, 90% of the variance amounts to 235 principal components.\n",
    "\n",
    "## Apply the mapping (transform) to both the training set and the test set."
   ]
  },
  {
   "cell_type": "code",
   "execution_count": 6,
   "metadata": {},
   "outputs": [],
   "source": [
    "train_img = pca.transform(train_img)\n",
    "test_img = pca.transform(test_img)"
   ]
  },
  {
   "cell_type": "markdown",
   "metadata": {},
   "source": [
    "## Image reconstruction from compressed representation\n",
    "Indeed, PCA compresses high dimensional data to lower dimensional data. It can also take the compressed representation of the data (lower dimensional data) back to an approximation of the original high dimensional data. "
   ]
  },
  {
   "cell_type": "code",
   "execution_count": 11,
   "metadata": {},
   "outputs": [
    {
     "data": {
      "image/png": "[encoded data removed]",
      "text/plain": [
       "<Figure size 1440x288 with 6 Axes>"
      ]
     },
     "metadata": {},
     "output_type": "display_data"
    }
   ],
   "source": [
    "import matplotlib.pyplot as plt\n",
    "\n",
    "def compressedImage(percentage, images): \n",
    "    # percentage should be a decimal from 0 to 1 \n",
    "    pca = PCA(percentage)\n",
    "    pca.fit(images)\n",
    "    components = pca.transform(images)\n",
    "    approxOriginal = pca.inverse_transform(components)\n",
    "    return approxOriginal, pca.n_components_, 100*percentage\n",
    "\n",
    "explainedVariance = [1, 0.99, 0.95, 0.9, 0.85, 0.8]\n",
    "image = 28500\n",
    "\n",
    "plt.figure(figsize=(20,4));\n",
    "for i in range(len(explainedVariance)):\n",
    "    plt.subplot(1, len(explainedVariance), i+1);\n",
    "    if explainedVariance[i]==1:\n",
    "        plt.imshow(mnist.data[image].reshape(28,28),\n",
    "                   cmap = plt.cm.gray, interpolation='nearest',\n",
    "                   clim=(0, 255));\n",
    "        plt.xlabel(\"%d\"% mnist.data.shape[1]+' Components', fontsize = 12)\n",
    "        plt.title('Original Image', fontsize = 14)\n",
    "    else: \n",
    "        compimage = compressedImage(explainedVariance[i], mnist.data)\n",
    "        plt.imshow(compimage[0][image].reshape(28, 28),\n",
    "                   cmap = plt.cm.gray, interpolation='nearest',\n",
    "                   clim=(0, 255));\n",
    "        plt.xlabel(\"%d\"% compimage[1]+' Components', fontsize = 12)\n",
    "        plt.title(\"%d\"% compimage[2]+'% of Explained Variance', fontsize = 14)\n",
    "plt.show()"
   ]
  },
  {
   "cell_type": "markdown",
   "metadata": {},
   "source": [
    "## Timing of applying Logistic Regression to the PCA-based transformed Data\n",
    "\n",
    "The aim of this tutorial section was to show that you can use PCA to speed up the fitting of machine learning algorithms. The table below shows how long it took to fit logistic regression on my computer after applying PCA (retaining different amounts of variance each time)."
   ]
  },
  {
   "cell_type": "code",
   "execution_count": 9,
   "metadata": {},
   "outputs": [
    {
     "data": {
      "text/html": [
       "<div>\n",
       "<style scoped>\n",
       "    .dataframe tbody tr th:only-of-type {\n",
       "        vertical-align: middle;\n",
       "    }\n",
       "\n",
       "    .dataframe tbody tr th {\n",
       "        vertical-align: top;\n",
       "    }\n",
       "\n",
       "    .dataframe thead th {\n",
       "        text-align: right;\n",
       "    }\n",
       "</style>\n",
       "<table border=\"1\" class=\"dataframe\">\n",
       "  <thead>\n",
       "    <tr style=\"text-align: right;\">\n",
       "      <th></th>\n",
       "      <th>Explained Variance (%)</th>\n",
       "      <th>Number of PCs</th>\n",
       "      <th>Accuracy</th>\n",
       "      <th>Elapsed Time (s)</th>\n",
       "    </tr>\n",
       "  </thead>\n",
       "  <tbody>\n",
       "    <tr>\n",
       "      <th>0</th>\n",
       "      <td>100</td>\n",
       "      <td>784</td>\n",
       "      <td>0.915857</td>\n",
       "      <td>204.859</td>\n",
       "    </tr>\n",
       "    <tr>\n",
       "      <th>1</th>\n",
       "      <td>99</td>\n",
       "      <td>541</td>\n",
       "      <td>0.917357</td>\n",
       "      <td>150.641</td>\n",
       "    </tr>\n",
       "    <tr>\n",
       "      <th>2</th>\n",
       "      <td>95</td>\n",
       "      <td>330</td>\n",
       "      <td>0.918429</td>\n",
       "      <td>97.1562</td>\n",
       "    </tr>\n",
       "    <tr>\n",
       "      <th>3</th>\n",
       "      <td>90</td>\n",
       "      <td>235</td>\n",
       "      <td>0.917286</td>\n",
       "      <td>73.5781</td>\n",
       "    </tr>\n",
       "    <tr>\n",
       "      <th>4</th>\n",
       "      <td>85</td>\n",
       "      <td>183</td>\n",
       "      <td>0.916143</td>\n",
       "      <td>60.1875</td>\n",
       "    </tr>\n",
       "    <tr>\n",
       "      <th>5</th>\n",
       "      <td>80</td>\n",
       "      <td>147</td>\n",
       "      <td>0.913929</td>\n",
       "      <td>51.9062</td>\n",
       "    </tr>\n",
       "  </tbody>\n",
       "</table>\n",
       "</div>"
      ],
      "text/plain": [
       "  Explained Variance (%) Number of PCs  Accuracy Elapsed Time (s)\n",
       "0                    100           784  0.915857          204.859\n",
       "1                     99           541  0.917357          150.641\n",
       "2                     95           330  0.918429          97.1562\n",
       "3                     90           235  0.917286          73.5781\n",
       "4                     85           183  0.916143          60.1875\n",
       "5                     80           147  0.913929          51.9062"
      ]
     },
     "execution_count": 9,
     "metadata": {},
     "output_type": "execute_result"
    }
   ],
   "source": [
    "from sklearn.linear_model import LogisticRegression\n",
    "import pandas as pd\n",
    "import time\n",
    "\n",
    "train_img, test_img, train_lbl, test_lbl = train_test_split(mnist.data, mnist.target, test_size=0.2, random_state=0)\n",
    "\n",
    "scaler = StandardScaler()\n",
    "# Fit on training set only.\n",
    "scaler.fit(train_img)\n",
    "# Apply transform to both the training set and the test set.\n",
    "train_img = scaler.transform(train_img)\n",
    "test_img = scaler.transform(test_img)\n",
    "\n",
    "\n",
    "# Create table to compare the used metrics\n",
    "table_columns = ['Explained Variance (%)', 'Number of PCs', 'Accuracy','Elapsed Time (s)']\n",
    "timing = pd.DataFrame(columns = table_columns)\n",
    "\n",
    "explainedVariance = [1, 0.99, 0.95, 0.9, 0.85, 0.8]\n",
    "#explainedVariance = [1, 0.99]\n",
    "\n",
    "#index through explained variance\n",
    "row_index = 0\n",
    "\n",
    "for i in range(len(explainedVariance)):\n",
    "    if explainedVariance[i]==1:\n",
    "        t = time.process_time()\n",
    "        logisticRegr = LogisticRegression(solver = 'lbfgs')\n",
    "        logisticRegr.fit(train_img, train_lbl)\n",
    "        accuracy = logisticRegr.score(test_img, test_lbl)\n",
    "        elapsed_time = time.process_time() - t\n",
    "        timing.loc[row_index, 'Explained Variance (%)'] = explainedVariance[i]*100\n",
    "        timing.loc[row_index, 'Number of PCs'] = train_img.shape[1]\n",
    "        timing.loc[row_index, 'Accuracy'] = accuracy\n",
    "        timing.loc[row_index, 'Elapsed Time (s)'] = elapsed_time\n",
    "        row_index+=1\n",
    "    else:\n",
    "        # Make an instance of the Model\n",
    "        pca = PCA(explainedVariance[i])\n",
    "        # Fitting PCA on the training set only\n",
    "        pca.fit(train_img)\n",
    "        t = time.process_time()\n",
    "        logisticRegr = LogisticRegression(solver = 'lbfgs')\n",
    "        logisticRegr.fit(pca.transform(train_img), train_lbl)\n",
    "        accuracy = logisticRegr.score(pca.transform(test_img), test_lbl)\n",
    "        elapsed_time = time.process_time() - t\n",
    "        timing.loc[row_index, 'Explained Variance (%)'] = explainedVariance[i]*100\n",
    "        timing.loc[row_index, 'Number of PCs'] = pca.n_components_\n",
    "        timing.loc[row_index, 'Accuracy'] = accuracy\n",
    "        timing.loc[row_index, 'Elapsed Time (s)'] = elapsed_time\n",
    "        row_index+=1\n",
    "        \n",
    "timing"
   ]
  },
  {
   "cell_type": "markdown",
   "metadata": {},
   "source": [
    "As you can see, by reducing the selected number of principal components, the Logistic Regression machine learning algorithm is much faster. At the same time, its classification accuracy is sometimes better based on a reduced number of principal components."
   ]
  }
 ],
 "metadata": {
  "kernelspec": {
   "display_name": "Python 3",
   "language": "python",
   "name": "python3"
  },
  "language_info": {
   "codemirror_mode": {
    "name": "ipython",
    "version": 3
   },
   "file_extension": ".py",
   "mimetype": "text/x-python",
   "name": "python",
   "nbconvert_exporter": "python",
   "pygments_lexer": "ipython3",
   "version": "3.6.6"
  }
 },
 "nbformat": 4,
 "nbformat_minor": 2
}
